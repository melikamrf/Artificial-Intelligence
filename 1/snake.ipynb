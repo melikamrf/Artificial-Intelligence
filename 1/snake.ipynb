{
 "cells": [
  {
   "cell_type": "code",
   "execution_count": 1,
   "metadata": {},
   "outputs": [],
   "source": [
    "import time\n",
    "import math"
   ]
  },
  {
   "cell_type": "code",
   "execution_count": 36,
   "metadata": {},
   "outputs": [],
   "source": [
    "class Node:\n",
    "    def __init__(self,s,p,a,c):\n",
    "        self.state = s\n",
    "        self.parent = p\n",
    "        self.action = a #the action that was applied to the parent to generate the node\n",
    "        self.path_cost = c\n",
    "      \n",
    "    def __eq__(self, other):\n",
    "        if (self.path_cost == other.path_cost and self.state == other.state\n",
    "              and self.parent == other.parent and self.action == other.action):\n",
    "            return True\n",
    "        return False\n",
    "   \n",
    "    def f(self,problem,h,a):\n",
    "         return self.path_cost + a*h(problem, self.state[0][0], self.state[1]) #snake's head, seeds\n",
    "        \n",
    "    def __lt__(self, other):\n",
    "        return self.path_cost < other.path_cost"
   ]
  },
  {
   "cell_type": "code",
   "execution_count": 3,
   "metadata": {},
   "outputs": [],
   "source": [
    "class Problem:\n",
    "    def __init__(self,seeds,snake,r,c):\n",
    "        self.seeds = seeds\n",
    "        self.snake = snake\n",
    "        self.nrows = r\n",
    "        self.ncols = c\n",
    "        self.num_state = 0\n",
    "        self.unique = 0\n",
    "        \n",
    "    def init_state(self):\n",
    "        s = [self.snake,self.seeds]\n",
    "        i_state = tuple(tuple(i) for i in s)\n",
    "        return Node(i_state,None,None,0)\n",
    "    \n",
    "    def goal_test(self,state):\n",
    "        if (len(state[1]) == 1) and state[0][0] == state[1][0]:\n",
    "            return True\n",
    "        else:\n",
    "            return False\n",
    "        \n",
    "    def solution(self,node):\n",
    "        path = []     \n",
    "        current_node = node\n",
    "        start_node = self.init_state()\n",
    "        while current_node != start_node:\n",
    "            path.insert(0,current_node.action)\n",
    "            current_node = current_node.parent\n",
    "    \n",
    "        return path  \n",
    "    \n",
    "    def eat_seed(self,snake,seeds):  \n",
    "        for i in range(len(seeds)):\n",
    "            if snake[0] == seeds[i]:\n",
    "                return i\n",
    "        return -1\n",
    "     \n",
    "    def valid_actions(self,snake,seeds):\n",
    "     \n",
    "        left = (snake[0][0], (snake[0][1] - 1)% self.ncols) \n",
    "        right = (snake[0][0], (snake[0][1] +1)% self.ncols)\n",
    "        up = ((snake[0][0] - 1) % self.nrows, snake[0][1])\n",
    "        down = ((snake[0][0] + 1) % self.nrows, snake[0][1])\n",
    "\n",
    "        actions = {'U': up,'D':down,'L':left,'R':right}\n",
    "\n",
    "        for action,result in list(actions.items()):\n",
    "            if result in snake:\n",
    "                if snake[-1] != result :\n",
    "                    actions.pop(action)\n",
    "                if(snake[-1] == result and (len(snake) == 2)): #not sure\n",
    "                    actions.pop(action)\n",
    "                elif snake[-1] == result and self.eat_seed(snake,seeds)!= -1 :#seed\n",
    "                    actions.pop(action)\n",
    "            \n",
    "        return actions\n",
    "    \n",
    "    def action_result(self,s,seeds,action):\n",
    "        snake = list(s)\n",
    "        sd = list(seeds)\n",
    "        \n",
    "        index = self.eat_seed(snake,seeds)\n",
    "        \n",
    "        snake.insert(0,self.valid_actions(snake,sd)[action])\n",
    "        if index == -1:\n",
    "            snake.pop()\n",
    "        else:            \n",
    "            sd.pop(index)\n",
    "                \n",
    "        sl = [snake,sd]      \n",
    "        state = tuple(map(tuple,sl))\n",
    "        return state"
   ]
  },
  {
   "cell_type": "code",
   "execution_count": 4,
   "metadata": {},
   "outputs": [],
   "source": [
    "def create_problem(file_path):\n",
    "    file = open(file_path,'r')\n",
    "    file_lines = file.readlines()\n",
    "    lines = []\n",
    "\n",
    "    for l in file_lines:\n",
    "        lines.append([int(i) for i in l.strip().split(',')])\n",
    "    \n",
    "    nrows, ncols = lines[0]\n",
    "    snake = [tuple(lines[1])]\n",
    "    seeds_cnt = lines[2][0]\n",
    "    seeds = []\n",
    "    for i in range(seeds_cnt):\n",
    "        if lines[i+3][2] == 2:\n",
    "            seeds.append((lines[i+3][0],lines[i+3][1]))\n",
    "        seeds.append((lines[i+3][0],lines[i+3][1])) \n",
    "        \n",
    "    seeds.sort(key = lambda x: x[0])\n",
    "    return Problem(seeds,snake,nrows,ncols)\n"
   ]
  },
  {
   "cell_type": "code",
   "execution_count": 5,
   "metadata": {},
   "outputs": [],
   "source": [
    "def child_node(problem, parent, action): \n",
    "    state = problem.action_result(parent.state[0], parent.state[1], action)\n",
    "    path_cost = parent.path_cost + 1\n",
    "    child = Node(state,parent,action,path_cost)\n",
    "    return child"
   ]
  },
  {
   "cell_type": "markdown",
   "metadata": {},
   "source": [
    "# BFS"
   ]
  },
  {
   "cell_type": "code",
   "execution_count": 6,
   "metadata": {},
   "outputs": [],
   "source": [
    "def BFS(problem): \n",
    "    \n",
    "    problem.num_state = 0\n",
    "    fnode = problem.init_state()\n",
    "    if (problem.goal_test(fnode.state)):\n",
    "        return problem.solution(fnode)\n",
    "\n",
    "    frontier = [fnode] \n",
    "    f_set = set() #explored and frontier\n",
    "    \n",
    "    while(True):\n",
    "        if len(frontier) == 0:\n",
    "           return 'failure'\n",
    "            \n",
    "        fnode = frontier[0]\n",
    "        f_set.add(fnode.state)\n",
    "        \n",
    "        frontier.pop(0) \n",
    "        \n",
    "        for action in problem.valid_actions(fnode.state[0],fnode.state[1]):\n",
    "            problem.num_state +=1\n",
    "            \n",
    "            child = child_node(problem, fnode, action)\n",
    "            if  child.state not in f_set:\n",
    "                problem.unique+=1\n",
    "                if problem.goal_test(child.state):\n",
    "                   return problem.solution(child)\n",
    "                frontier.append(child)\n",
    "                f_set.add(child.state)"
   ]
  },
  {
   "cell_type": "code",
   "execution_count": 7,
   "metadata": {},
   "outputs": [],
   "source": [
    "test3 = create_problem('D:/Term5/هوش/CA/1/test3.txt')"
   ]
  },
  {
   "cell_type": "code",
   "execution_count": 8,
   "metadata": {},
   "outputs": [
    {
     "name": "stdout",
     "output_type": "stream",
     "text": [
      "25 ['U', 'R', 'D', 'D', 'D', 'R', 'D', 'R', 'R', 'D', 'D', 'R', 'R', 'R', 'U', 'R', 'R', 'D', 'L', 'L', 'L', 'U', 'U', 'L', 'L']\n",
      "time 5.816001653671265\n",
      "All states 435666\n",
      "unique states 194829\n"
     ]
    }
   ],
   "source": [
    "s = time.time()\n",
    "bfs_sol = BFS(test3)\n",
    "print(len(bfs_sol), bfs_sol)\n",
    "e = time.time()\n",
    "print('time',e - s)\n",
    "print('All states',test3.num_state)\n",
    "print('unique states',test3.unique)\n"
   ]
  },
  {
   "cell_type": "markdown",
   "metadata": {},
   "source": [
    "# IDS"
   ]
  },
  {
   "cell_type": "code",
   "execution_count": 9,
   "metadata": {},
   "outputs": [],
   "source": [
    "def DLS(problem, limit):\n",
    "    src = problem.init_state()\n",
    "    visited = {str(src.state): src}\n",
    "    return REC_DLS(src, problem, limit,visited)\n",
    "\n",
    "def REC_DLS(node, problem, limit,visited):\n",
    "    \n",
    "    if problem.goal_test(node.state):\n",
    "        return problem.solution(node)\n",
    "    if limit == 0 :\n",
    "        return 'cutoff'\n",
    "    else:\n",
    "        cutoff_occurred = False\n",
    "        for action in problem.valid_actions(node.state[0],node.state[1]):\n",
    "            child = child_node(problem, node, action)\n",
    "            \n",
    "            child_st = str(child.state)        \n",
    "            if child_st in visited:\n",
    "                if (child.path_cost >= visited[child_st].path_cost):\n",
    "                    continue\n",
    "                    \n",
    "            visited[child_st] = child\n",
    "        \n",
    "            result = REC_DLS(child, problem, limit-1,visited)\n",
    "            if result == 'cutoff':\n",
    "                cutoff_occurred = True\n",
    "            elif result != 'failure':\n",
    "                return result\n",
    "                \n",
    "        if cutoff_occurred:\n",
    "            return 'cutoff'\n",
    "        else:\n",
    "            return 'failure'"
   ]
  },
  {
   "cell_type": "code",
   "execution_count": 10,
   "metadata": {},
   "outputs": [],
   "source": [
    "def IDS(problem): \n",
    "    depth = 0\n",
    "    while(True):\n",
    "        result = DLS(problem, depth)\n",
    "        if result != 'cutoff':\n",
    "            return result\n",
    "        depth +=1\n",
    "    "
   ]
  },
  {
   "cell_type": "code",
   "execution_count": 11,
   "metadata": {},
   "outputs": [
    {
     "name": "stdout",
     "output_type": "stream",
     "text": [
      "25 ['U', 'R', 'D', 'D', 'D', 'R', 'D', 'R', 'R', 'D', 'D', 'R', 'R', 'R', 'U', 'R', 'R', 'D', 'L', 'L', 'L', 'U', 'U', 'L', 'L']\n",
      "time 47.118069648742676\n"
     ]
    }
   ],
   "source": [
    "s = time.time()\n",
    "ids_res = IDS(test3)\n",
    "print(len(ids_res), ids_res)\n",
    "e = time.time()\n",
    "print('time',e - s)"
   ]
  },
  {
   "cell_type": "markdown",
   "metadata": {},
   "source": [
    "# A*"
   ]
  },
  {
   "cell_type": "code",
   "execution_count": 15,
   "metadata": {},
   "outputs": [],
   "source": [
    "def nearest_seed(problem, coordinate, seeds):\n",
    "    min_dist = float('inf')\n",
    "    for s in seeds:\n",
    "        y1 = s[0] - coordinate[0]\n",
    "        x1 =  s[1] - coordinate[1]\n",
    "        dist = min(y1 % problem.nrows,-y1 % problem.nrows) + min(x1 % problem.ncols,-x1 % problem.ncols)\n",
    "        if dist < min_dist:\n",
    "            min_dist = dist\n",
    "    if len(seeds) == 0:\n",
    "        min_dist = 0     \n",
    "    return min_dist\n",
    "\n",
    "def furthest_seed(problem, coordinate, seeds):\n",
    "    max_dist = 0\n",
    "    for s in seeds:\n",
    "        y1 = s[0] - coordinate[0]\n",
    "        x1 =  s[1] - coordinate[1]\n",
    "        dist = min(y1 % problem.nrows,-y1 % problem.nrows) + min(x1 % problem.ncols,-x1 % problem.ncols)\n",
    "        if dist > max_dist:\n",
    "            max_dist = dist\n",
    "    if len(seeds) == 0:\n",
    "        max_dist = 0\n",
    "        \n",
    "    return max_dist"
   ]
  },
  {
   "cell_type": "code",
   "execution_count": 48,
   "metadata": {},
   "outputs": [],
   "source": [
    "def Astar(problem,h,a):\n",
    "    \n",
    "   problem.num_state = 0\n",
    "   problem.unique = 0\n",
    "   \n",
    "   src = problem.init_state()\n",
    "   frontier = [src]\n",
    "   fdict = {str(src.state):src}  #frontier \n",
    "   explored = set()\n",
    "   \n",
    "   while len(frontier) > 0:\n",
    "    \n",
    "      frontier.sort(key = lambda x:x.f(problem,h,a))  #choose node with lowest f\n",
    "      fnode = frontier[0]\n",
    "\n",
    "      if problem.goal_test(fnode.state):\n",
    "         return problem.solution(fnode)\n",
    "   \n",
    "      frontier.pop(0)\n",
    "      del fdict[str(fnode.state)]\n",
    "      explored.add(fnode.state)\n",
    "\n",
    "      for action in problem.valid_actions(fnode.state[0],fnode.state[1]):\n",
    "         problem.num_state +=1\n",
    "      \n",
    "         child = child_node(problem, fnode, action)\n",
    "         if child.state in explored:\n",
    "            continue\n",
    "         child_st = str(child.state)\n",
    "\n",
    "         if child_st in fdict:       \n",
    "            if fdict[child_st].path_cost > child.path_cost:\n",
    "            \n",
    "               fdict[child_st].path_cost = child.path_cost\n",
    "               fdict[child_st].parent =  child.parent\n",
    "               fdict[child_st].action = child.action\n",
    "         else:\n",
    "            problem.unique +=1  \n",
    "            frontier.append(child)\n",
    "            fdict[child_st] = child"
   ]
  },
  {
   "cell_type": "code",
   "execution_count": 49,
   "metadata": {},
   "outputs": [],
   "source": [
    "problem = create_problem('D:/Term5/هوش/CA/1/test1.txt')"
   ]
  },
  {
   "cell_type": "code",
   "execution_count": 50,
   "metadata": {},
   "outputs": [
    {
     "name": "stdout",
     "output_type": "stream",
     "text": [
      "12 ['D', 'L', 'U', 'L', 'D', 'R', 'U', 'U', 'L', 'U', 'L', 'L']\n",
      "time 5.732997417449951\n",
      "All states 6910\n",
      "unique states 3894\n"
     ]
    }
   ],
   "source": [
    "s = time.time()\n",
    "a = 1\n",
    "astar_sol = Astar(problem,nearest_seed,a)\n",
    "print(len(astar_sol),astar_sol)\n",
    "e = time.time()\n",
    "print('time',e - s)\n",
    "print('All states',problem.num_state)\n",
    "print('unique states',problem.unique)"
   ]
  },
  {
   "cell_type": "code",
   "execution_count": 51,
   "metadata": {},
   "outputs": [
    {
     "name": "stdout",
     "output_type": "stream",
     "text": [
      "12 ['D', 'L', 'D', 'D', 'R', 'R', 'R', 'R', 'D', 'D', 'D', 'R']\n",
      "time 2.706003189086914\n",
      "All states 4560\n",
      "unique states 2633\n"
     ]
    }
   ],
   "source": [
    "s = time.time()\n",
    "a = 1\n",
    "astar_sol = Astar(problem,furthest_seed,a)\n",
    "print(len(astar_sol),astar_sol)\n",
    "e = time.time()\n",
    "print('time',e - s)\n",
    "print('All states',problem.num_state)\n",
    "print('unique states',problem.unique)"
   ]
  }
 ],
 "metadata": {
  "kernelspec": {
   "display_name": "Python 3",
   "language": "python",
   "name": "python3"
  },
  "language_info": {
   "codemirror_mode": {
    "name": "ipython",
    "version": 3
   },
   "file_extension": ".py",
   "mimetype": "text/x-python",
   "name": "python",
   "nbconvert_exporter": "python",
   "pygments_lexer": "ipython3",
   "version": "3.9.1"
  }
 },
 "nbformat": 4,
 "nbformat_minor": 4
}

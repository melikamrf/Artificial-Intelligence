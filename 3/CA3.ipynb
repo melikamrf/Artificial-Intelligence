{
 "cells": [
  {
   "cell_type": "markdown",
   "metadata": {
    "direction": "rtl"
   },
   "source": [
    "# تحلیل کامنت ها\n",
    "\n",
    "## ملیکا مرافق 810197581\n",
    "\n",
    "\n",
    "\n",
    "# مقدمه \n",
    " در این پروژه قصد داریم با استفاده از Naive Bayes Classifier به تحلیل کامنت ها بپردازیم و آن ها را بر اساس محتوا طبقه بندی کنیم. \n",
    "\n",
    "\n",
    "# توضیح پروژه\n",
    "دو مجموعه داده در اختیار داریم که یکی برای آموزش و دیگری برای تست است که هرکدام شامل نظراتی پیرامون تعدادی محصول می باشند.هر نظر یک برچسب دارد که نشانگر این است که محصول پیشنهاد می شود یا خیر.\n",
    "با کمک Navie Bayes Classifier در داده ی آموزش احتمال حضور هر کلمه در کامنت با برچسب پیشنهاد شده و پیشنهاد نشده را محاسبه می کنیم. در تست قصد داریم با استفاده از این احتمال ها بر اساس محتوای کامنت تصمیم بگیریم که محصول پیشنهاد می شود یا خیر.و در نهایت دقت و درستی مدل خود را می آزماییم.   "
   ]
  },
  {
   "cell_type": "code",
   "execution_count": 1,
   "metadata": {},
   "outputs": [],
   "source": [
    "from __future__ import unicode_literals\n",
    "from collections import Counter\n",
    "from hazm import *\n",
    "import pandas\n",
    "import numpy as np\n",
    "\n",
    "\n",
    "import string\n",
    "import re\n",
    "import math\n",
    "\n",
    "test = pandas.read_csv ('comment_test.csv')\n",
    "train = pandas.read_csv ('comment_train.csv')\n"
   ]
  },
  {
   "cell_type": "markdown",
   "metadata": {
    "direction": "rtl"
   },
   "source": [
    "# 1"
   ]
  },
  {
   "cell_type": "markdown",
   "metadata": {
    "direction": "rtl"
   },
   "source": [
    "stemming\n",
    "دراین روش شناسه و علامت جمع وضمایر متصل و... را از کلمات حذف می کنیم.\n",
    "\n",
    "lemmatization\n",
    "در این روش فعل و یا کلمه را به  بن و ریشه اش تبدیل می کنیم.که کتابخانه هضم بن ماضی و مضارع افعال را به دست می آورد.\n",
    "\n",
    "از آنجاییکه این ریشه ی کلمات است که در معنی آن ها تاثیر می گذارد و شناسه یا تعداد تاثیری بر معنی ان ندارند.همچنین دربرخورد با کلمه ای جدید می توان احتمال آن را برابر با احتمال ریشه اش در صورت وجود قرار داد.   \n",
    "البته باید در نظر داشت که در این روش با تبدیل شدن فعل منفی به ریشه اش معنی آن تغییر می یابد و در این حالت lemmatization ممکن است باعث کاهش دقت شود. "
   ]
  },
  {
   "cell_type": "code",
   "execution_count": 2,
   "metadata": {},
   "outputs": [],
   "source": [
    "def normal(df):\n",
    "\n",
    "#punctuation\n",
    "    p = re.compile(r'[^\\w\\s]+')\n",
    "    df['comment'] = [p.sub(' ', x) for x in df['comment'].tolist()]\n",
    "   \n",
    "#white space new line\n",
    "    df['comment'] = df['comment'].apply(lambda x: re.sub('\\s+',' ',x))\n",
    "\n",
    "\n",
    "    df['comment'] = df['comment'].apply(lambda x: re.sub(\"[۰۱۲۳۴۵۶۷۸۹]\",' ',x))\n",
    "   \n",
    "    df['comment'] = df['comment'].apply(lambda x: re.sub(r'\\d+', ' ',x))\n",
    "\n",
    "\n",
    "\n",
    "    norm = Normalizer()\n",
    "    df['comment'] = df['comment'].apply(lambda x: norm.normalize(x))\n",
    "\n",
    "\n",
    "    stop = ['رو','در','این','ان','اون','من', 'برای', 'خودم', 'و','به','با','از','سلام','که','را'] \n",
    "    df['comment'] = df['comment'].apply(lambda x: list(item for item in x.split() if item not in stop))\n",
    "\n",
    "\n",
    "\n",
    "    lem = Lemmatizer()\n",
    "    df['comment'] = df['comment'].apply(lambda x: set(lem.lemmatize(item) for item in x))\n",
    "    \n",
    "   # s = Stemmer()\n",
    "   # df['comment'] = df['comment'].apply(lambda x: set(s.stem(item) for item in x))\n",
    "    \n",
    "    df['comment'] = df['comment'].apply(lambda x: list(x))\n",
    "    "
   ]
  },
  {
   "cell_type": "markdown",
   "metadata": {
    "direction": "rtl"
   },
   "source": [
    "ستون کامنت و تایتل را یکی کردیم که نسبت به حالت تایتل تنها حدود 4 درصد دقت بالاتری داشت( نسبت به کامنت تنها حدود 2 درصد)"
   ]
  },
  {
   "cell_type": "code",
   "execution_count": 3,
   "metadata": {},
   "outputs": [],
   "source": [
    "\n",
    "test['comment'] = test['comment'].str.cat(test['title'], sep =\" \") \n",
    "train['comment'] = train['comment'].str.cat(train['title'], sep = \" \")\n"
   ]
  },
  {
   "cell_type": "code",
   "execution_count": 4,
   "metadata": {},
   "outputs": [],
   "source": [
    "#normal(train)\n",
    "#normal(test)\n"
   ]
  },
  {
   "cell_type": "code",
   "execution_count": 5,
   "metadata": {},
   "outputs": [],
   "source": [
    "# preprocessing در صورت عدم استفاده  \n",
    "train['comment'] = train['comment'].apply(lambda x:x.split())\n",
    "test['comment'] = test['comment'].apply(lambda x:x.split())"
   ]
  },
  {
   "cell_type": "markdown",
   "metadata": {
    "direction": "rtl"
   },
   "source": [
    "# 2"
   ]
  },
  {
   "cell_type": "markdown",
   "metadata": {
    "direction": "rtl"
   },
   "source": [
    "\n",
    "\n",
    "likelihood\n",
    "احتمال حضور کلمه در یک کلاس: داده آموزش را بر اساس برچسب هر کامنت به دو دسته پیشنهاد شده و پیشنهاد نشده تقسیم می کنیم.سپس تعداد دفعات تکرار آن کلمه(تکرار یک کلمه در کلاس را نادیده میگیریم و یکبار می شماریم) در هر کلاس را بر تعداد کل کامنت های آن کلاس تقسیم می کنیم.\n",
    "\n",
    "prior\n",
    "احتمال وقوع هر کلاس(چقدر محتمل است که مستقل از کلمات یک کلاس رخ دهد) در داده آموزش تعداد کامنت هایی را یک برچسب یک کلاس خورده اند را بر کل کامنت ها تقسیم می کنیم\n",
    "\n",
    "posterior\n",
    "احتمال وقوع کلاس با داشتن ویژگی ها(کلمات یک کامنت). \n",
    "با توجه به کلمات یک کامنت چقدر احتمال دارد که عضو کلاس مورد نظر باشد.\n",
    "\n",
    "\n",
    "لگاریتم likelihood ها و prior را با هم جمع کردیم.\n",
    "\n",
    "evidence\n",
    "چقدر احتمال دارد که یک کلمه در کامنت ظاهر شود( های دو کلاس را با هم جمع کرد likelihood * prior)"
   ]
  },
  {
   "cell_type": "markdown",
   "metadata": {
    "direction": "rtl"
   },
   "source": [
    "# 3"
   ]
  },
  {
   "cell_type": "markdown",
   "metadata": {
    "direction": "rtl"
   },
   "source": [
    "در حالتیکه کلاس c فاقد x باشد P(x|c)  را برابر 0 در نظر می گیرد که با ضرب 0 در باقی احتمال ها P(c|X)برابر 0 می شود و در صورتی که X حاوی کلمه ای نباشد که در'c وجود نداشته باشد  P(c'|X) همیشه بزرگتر از صفر است پس قطعا در 'c قرار می گیرد. "
   ]
  },
  {
   "cell_type": "markdown",
   "metadata": {
    "direction": "rtl"
   },
   "source": [
    "# 4 \n",
    "راهکاری برای تخمین داده های دسته ای است.و برای حل مشکل احتمال صفر به کار می رود(که به دلیل عدم وجود یک کلمه در یک یا هردو کلاس ها در داده آموزش رخ می دهد) که مطابق فرمول زیر در این حالت به جای صفر مقدار a/(f+a*d ) \n",
    "را می گیرد .مقدار الفا مثبت و کوچکتر مساوی یک است. \n",
    "\n"
   ]
  },
  {
   "cell_type": "markdown",
   "metadata": {},
   "source": [
    "teta = (f + a )/(N + a*d)"
   ]
  },
  {
   "cell_type": "code",
   "execution_count": 6,
   "metadata": {},
   "outputs": [],
   "source": [
    "def smoothing(f,N):\n",
    "    a = 0.1\n",
    "    t = (f + a)/(N + a*d)\n",
    "    return t"
   ]
  },
  {
   "cell_type": "code",
   "execution_count": 7,
   "metadata": {},
   "outputs": [],
   "source": [
    "\n",
    "recom = train[train['recommend'] == 'recommended']\n",
    "not_recom = train[train['recommend'] == 'not_recommended']"
   ]
  },
  {
   "cell_type": "code",
   "execution_count": 8,
   "metadata": {},
   "outputs": [],
   "source": [
    "recom_cmlist = list(np.concatenate(recom['comment'].tolist()).flat)\n",
    "\n",
    "notrecom_cmlist = list(np.concatenate(not_recom['comment'].tolist()).flat)\n",
    "\n",
    "recom_freq = Counter(recom_cmlist)\n",
    "\n",
    "notrecom_freq = Counter(notrecom_cmlist)\n"
   ]
  },
  {
   "cell_type": "code",
   "execution_count": 9,
   "metadata": {},
   "outputs": [],
   "source": [
    "test['comment'] =  [' '.join(map(str, l)) for l in test['comment']]\n",
    "words = list(test['comment'].str.split(' ', expand=True).stack().unique())\n",
    "\n",
    "train['comment'] =  [' '.join(map(str, l)) for l in train['comment']]\n",
    "d = len(list(train['comment'].str.split(' ', expand=True).stack().unique()))\n"
   ]
  },
  {
   "cell_type": "code",
   "execution_count": 10,
   "metadata": {},
   "outputs": [
    {
     "data": {
      "text/plain": [
       "recommended        3000\n",
       "not_recommended    3000\n",
       "Name: recommend, dtype: int64"
      ]
     },
     "execution_count": 10,
     "metadata": {},
     "output_type": "execute_result"
    }
   ],
   "source": [
    "count = train['recommend'].value_counts() \n",
    "count"
   ]
  },
  {
   "cell_type": "code",
   "execution_count": 11,
   "metadata": {},
   "outputs": [],
   "source": [
    "\n",
    "min_val = [0 for i in range(len(words))]\n",
    "\n",
    "df = {'words': words,'p_recom':min_val,'p_notrecom':min_val,'class':min_val}\n",
    "\n",
    "ptable = pandas.DataFrame(data=df)\n"
   ]
  },
  {
   "cell_type": "code",
   "execution_count": 12,
   "metadata": {},
   "outputs": [],
   "source": [
    "def prob_recom(w):\n",
    "    if w in recom_freq:\n",
    "       return math.log(recom_freq[w]/3000) #math.log(smoothing(recom_freq[w],count['recommended'])) #\n",
    "    else:\n",
    "        #if w in notrecom_freq:\n",
    "            return -math.inf # math.log(smoothing(0,count['recommended'])) \n",
    "        \n",
    "def prob_notrecom(w):\n",
    "    if w in notrecom_freq:\n",
    "       return math.log(notrecom_freq[w]/3000) #math.log(smoothing(notrecom_freq[w],count['not_recommended'])) #\n",
    "    else:\n",
    "        #if w in recom_freq:\n",
    "             return -math.inf #math.log(smoothing(0,count['not_recommended'])) #"
   ]
  },
  {
   "cell_type": "code",
   "execution_count": 13,
   "metadata": {},
   "outputs": [],
   "source": [
    "\n",
    "ptable['p_recom'] = ptable['words'].apply(lambda x: prob_recom(x))\n",
    "ptable['p_notrecom'] = ptable['words'].apply(lambda x: prob_notrecom(x))\n",
    "\n"
   ]
  },
  {
   "cell_type": "code",
   "execution_count": 14,
   "metadata": {},
   "outputs": [],
   "source": [
    "def calc_prob(w):\n",
    "\n",
    "    p = ptable.loc[ptable['words'].isin(w)].sum()\n",
    "    if p['p_recom'] > p['p_notrecom']:\n",
    "        return 'recommended'\n",
    "    else:\n",
    "        return 'not_recommended'"
   ]
  },
  {
   "cell_type": "code",
   "execution_count": 15,
   "metadata": {},
   "outputs": [],
   "source": [
    "test['comment'] = test['comment'].apply(lambda x : x.split())\n",
    "test['class'] = test['comment'].apply(lambda x: calc_prob(x))"
   ]
  },
  {
   "cell_type": "code",
   "execution_count": 16,
   "metadata": {},
   "outputs": [
    {
     "data": {
      "text/html": [
       "<div>\n",
       "<style scoped>\n",
       "    .dataframe tbody tr th:only-of-type {\n",
       "        vertical-align: middle;\n",
       "    }\n",
       "\n",
       "    .dataframe tbody tr th {\n",
       "        vertical-align: top;\n",
       "    }\n",
       "\n",
       "    .dataframe thead th {\n",
       "        text-align: right;\n",
       "    }\n",
       "</style>\n",
       "<table border=\"1\" class=\"dataframe\">\n",
       "  <thead>\n",
       "    <tr style=\"text-align: right;\">\n",
       "      <th></th>\n",
       "      <th>title</th>\n",
       "      <th>comment</th>\n",
       "      <th>recommend</th>\n",
       "      <th>class</th>\n",
       "    </tr>\n",
       "  </thead>\n",
       "  <tbody>\n",
       "    <tr>\n",
       "      <th>8</th>\n",
       "      <td>نقد پس از خرید</td>\n",
       "      <td>[سلام, ،, راحت, شدم, از, کابل, شارژ, ،, توصیه,...</td>\n",
       "      <td>recommended</td>\n",
       "      <td>not_recommended</td>\n",
       "    </tr>\n",
       "    <tr>\n",
       "      <th>19</th>\n",
       "      <td>خیالم راحت شد</td>\n",
       "      <td>[فندک, قبلیم, مدام, فیوز, میسوزوند, و, یک, بار...</td>\n",
       "      <td>recommended</td>\n",
       "      <td>not_recommended</td>\n",
       "    </tr>\n",
       "    <tr>\n",
       "      <th>23</th>\n",
       "      <td>در یک کلام فوق العاده</td>\n",
       "      <td>[من, این, روکش, رو, روی, ال, ۹۰, بستم, کیفیتش,...</td>\n",
       "      <td>recommended</td>\n",
       "      <td>not_recommended</td>\n",
       "    </tr>\n",
       "    <tr>\n",
       "      <th>34</th>\n",
       "      <td>چیز خوبیه</td>\n",
       "      <td>[بخرید.چیز, خوبیه.یه, موقع, احتیاج, میشه, بودش...</td>\n",
       "      <td>recommended</td>\n",
       "      <td>not_recommended</td>\n",
       "    </tr>\n",
       "    <tr>\n",
       "      <th>47</th>\n",
       "      <td>ظاهری زیبا و باطنی نا ارام و فوق العاده</td>\n",
       "      <td>[سلام, حدود, یک, ماهه, که, این, هدفون, و, برای...</td>\n",
       "      <td>recommended</td>\n",
       "      <td>not_recommended</td>\n",
       "    </tr>\n",
       "    <tr>\n",
       "      <th>67</th>\n",
       "      <td>کاهش زیاد سرعت</td>\n",
       "      <td>[وحشتناک, سرعتو, کم, میکنه, کاهش, زیاد, سرعت]</td>\n",
       "      <td>not_recommended</td>\n",
       "      <td>recommended</td>\n",
       "    </tr>\n",
       "    <tr>\n",
       "      <th>68</th>\n",
       "      <td>زودپز</td>\n",
       "      <td>[خیلی, خوبه, الان, چند, باری, هست, داریم, استف...</td>\n",
       "      <td>recommended</td>\n",
       "      <td>not_recommended</td>\n",
       "    </tr>\n",
       "    <tr>\n",
       "      <th>80</th>\n",
       "      <td>تجربه ای یک ساله</td>\n",
       "      <td>[با, سلام, خدمت, همه, دوستان, تجربه, یک, ساله,...</td>\n",
       "      <td>recommended</td>\n",
       "      <td>not_recommended</td>\n",
       "    </tr>\n",
       "    <tr>\n",
       "      <th>83</th>\n",
       "      <td>چراغ چک موتور خاموش شد</td>\n",
       "      <td>[سلام, دوستان, بعد, از, استفاده, چراغ, چک, توی...</td>\n",
       "      <td>recommended</td>\n",
       "      <td>not_recommended</td>\n",
       "    </tr>\n",
       "    <tr>\n",
       "      <th>101</th>\n",
       "      <td>انقدر که در تصویر دیده می شود زیبا نیست</td>\n",
       "      <td>[اگر, خریداری, نکنید, بهتره, انقدر, که, در, تص...</td>\n",
       "      <td>not_recommended</td>\n",
       "      <td>recommended</td>\n",
       "    </tr>\n",
       "    <tr>\n",
       "      <th>102</th>\n",
       "      <td>ایراد دستگاه</td>\n",
       "      <td>[ایراد, دستگاه, ایراد, دستگاه]</td>\n",
       "      <td>not_recommended</td>\n",
       "      <td>recommended</td>\n",
       "    </tr>\n",
       "    <tr>\n",
       "      <th>106</th>\n",
       "      <td>عالییییییی</td>\n",
       "      <td>[من, 3, ماهی, میشه, که, خریدمش, برای, تبلت, سا...</td>\n",
       "      <td>recommended</td>\n",
       "      <td>not_recommended</td>\n",
       "    </tr>\n",
       "    <tr>\n",
       "      <th>112</th>\n",
       "      <td>خود تراش ژیلت مدل Fusion Proglide Power Flexball</td>\n",
       "      <td>[فکر, کنم, این, خرید, یکی, از, بهترین, خریدهای...</td>\n",
       "      <td>recommended</td>\n",
       "      <td>not_recommended</td>\n",
       "    </tr>\n",
       "    <tr>\n",
       "      <th>119</th>\n",
       "      <td>پیشنهاد نمیکنم</td>\n",
       "      <td>[برد, بالایی, نداره, کیفیت, صداش, معمولیه, برا...</td>\n",
       "      <td>not_recommended</td>\n",
       "      <td>recommended</td>\n",
       "    </tr>\n",
       "    <tr>\n",
       "      <th>123</th>\n",
       "      <td>کیفیت و قیمت مناسب</td>\n",
       "      <td>[فیلتر, هوا, به, جعبه, وصل, شده, و, به, همراه,...</td>\n",
       "      <td>recommended</td>\n",
       "      <td>not_recommended</td>\n",
       "    </tr>\n",
       "    <tr>\n",
       "      <th>124</th>\n",
       "      <td>عالی</td>\n",
       "      <td>[از, اصلاح, با, تیغ, خسته, شده, بودم., قبلا, ا...</td>\n",
       "      <td>recommended</td>\n",
       "      <td>not_recommended</td>\n",
       "    </tr>\n",
       "    <tr>\n",
       "      <th>131</th>\n",
       "      <td>پیشنهاد برای خرید میکنم</td>\n",
       "      <td>[سلام.من, این, محصول, رو, چندین, روزه, خریدم.ک...</td>\n",
       "      <td>recommended</td>\n",
       "      <td>not_recommended</td>\n",
       "    </tr>\n",
       "    <tr>\n",
       "      <th>133</th>\n",
       "      <td>لاک پاکن</td>\n",
       "      <td>[خیلی, خوب, وبه, صرفه, هست, برای, اونهایی, که,...</td>\n",
       "      <td>recommended</td>\n",
       "      <td>not_recommended</td>\n",
       "    </tr>\n",
       "    <tr>\n",
       "      <th>138</th>\n",
       "      <td>روکش بالشتاش اصلا شبیه عکسش نبود صورتی ساده بود</td>\n",
       "      <td>[روتختیش, نسبت, به, بقیه, روتختیا, کوچیکتره, ج...</td>\n",
       "      <td>recommended</td>\n",
       "      <td>not_recommended</td>\n",
       "    </tr>\n",
       "    <tr>\n",
       "      <th>139</th>\n",
       "      <td>کیفیتش عالیه</td>\n",
       "      <td>[من, این, کیف, رو, توی, تخفیف, خریدم, که, واقع...</td>\n",
       "      <td>recommended</td>\n",
       "      <td>not_recommended</td>\n",
       "    </tr>\n",
       "    <tr>\n",
       "      <th>146</th>\n",
       "      <td>کارآیی بالا</td>\n",
       "      <td>[زیباست،, امروز, به, دستم, رسید،.مرسی, از, دیج...</td>\n",
       "      <td>recommended</td>\n",
       "      <td>not_recommended</td>\n",
       "    </tr>\n",
       "    <tr>\n",
       "      <th>159</th>\n",
       "      <td>جالبه</td>\n",
       "      <td>[با, این, قیمت, و, 3تا, باطری, نیم, قلمی, میخو...</td>\n",
       "      <td>recommended</td>\n",
       "      <td>not_recommended</td>\n",
       "    </tr>\n",
       "    <tr>\n",
       "      <th>173</th>\n",
       "      <td>بدرد بخور‌ه کوچولو</td>\n",
       "      <td>[سرعتش, فوق, العاده, است, خیلی, چیز, بدرد, بخو...</td>\n",
       "      <td>recommended</td>\n",
       "      <td>not_recommended</td>\n",
       "    </tr>\n",
       "    <tr>\n",
       "      <th>174</th>\n",
       "      <td>طرح زیبا</td>\n",
       "      <td>[طراحی, بسیار, زیبا, وقتی, به, دستم, رسید, خیل...</td>\n",
       "      <td>recommended</td>\n",
       "      <td>not_recommended</td>\n",
       "    </tr>\n",
       "    <tr>\n",
       "      <th>196</th>\n",
       "      <td>محدودیت ها</td>\n",
       "      <td>[از, لحاظ, طراحی, ظاهری, و, سهولت, استفاده, بس...</td>\n",
       "      <td>recommended</td>\n",
       "      <td>not_recommended</td>\n",
       "    </tr>\n",
       "    <tr>\n",
       "      <th>197</th>\n",
       "      <td>پیشنهاد من</td>\n",
       "      <td>[بسیار, کاربردی, هستش, برای, چسباندن, یادداشت،...</td>\n",
       "      <td>recommended</td>\n",
       "      <td>not_recommended</td>\n",
       "    </tr>\n",
       "    <tr>\n",
       "      <th>205</th>\n",
       "      <td>Expansion Portable STEA4000400</td>\n",
       "      <td>[همه, چیز, خوب،, سرعت, خواندن, و, نوشتن, اطلاع...</td>\n",
       "      <td>recommended</td>\n",
       "      <td>not_recommended</td>\n",
       "    </tr>\n",
       "    <tr>\n",
       "      <th>207</th>\n",
       "      <td>کم بخار</td>\n",
       "      <td>[پر, صدا, و, کم, بخار, و, بزرگ, و, جاگیر, کم, ...</td>\n",
       "      <td>not_recommended</td>\n",
       "      <td>recommended</td>\n",
       "    </tr>\n",
       "    <tr>\n",
       "      <th>212</th>\n",
       "      <td>مناسب در رنج قیمت</td>\n",
       "      <td>[با, سلام., بهمن, ماه, لپ, تاپ, رو, خریدم.., ت...</td>\n",
       "      <td>recommended</td>\n",
       "      <td>not_recommended</td>\n",
       "    </tr>\n",
       "    <tr>\n",
       "      <th>213</th>\n",
       "      <td>عالی با قیمت مناسب</td>\n",
       "      <td>[دو, تا, از, این, این, ها, چند, سال, هست, دارم...</td>\n",
       "      <td>recommended</td>\n",
       "      <td>not_recommended</td>\n",
       "    </tr>\n",
       "    <tr>\n",
       "      <th>...</th>\n",
       "      <td>...</td>\n",
       "      <td>...</td>\n",
       "      <td>...</td>\n",
       "      <td>...</td>\n",
       "    </tr>\n",
       "    <tr>\n",
       "      <th>553</th>\n",
       "      <td>خیلی عالیه</td>\n",
       "      <td>[خیلی, دیر, شارژ, میشه, جنس, پاوربانک, یجوریه,...</td>\n",
       "      <td>recommended</td>\n",
       "      <td>not_recommended</td>\n",
       "    </tr>\n",
       "    <tr>\n",
       "      <th>559</th>\n",
       "      <td>لطفا دفترچه راهنما ان را هم بگزارید</td>\n",
       "      <td>[ممنون, بابت, دیجی, کالا, لطفا, دفترچه, راهنما...</td>\n",
       "      <td>recommended</td>\n",
       "      <td>not_recommended</td>\n",
       "    </tr>\n",
       "    <tr>\n",
       "      <th>564</th>\n",
       "      <td>کاور ژله ای</td>\n",
       "      <td>[بد, نیست, نسبت, به, قیمتش, کاور, ژله, ای]</td>\n",
       "      <td>not_recommended</td>\n",
       "      <td>recommended</td>\n",
       "    </tr>\n",
       "    <tr>\n",
       "      <th>574</th>\n",
       "      <td>حرفه ای</td>\n",
       "      <td>[من, خودم, چندیدن, ساله, از, محصولات, براون, ا...</td>\n",
       "      <td>recommended</td>\n",
       "      <td>not_recommended</td>\n",
       "    </tr>\n",
       "    <tr>\n",
       "      <th>582</th>\n",
       "      <td>سیستم چرخشی آبگیری دارد</td>\n",
       "      <td>[سیستم, خشک, کن, چرخشی, داره., یه, ضامن, روی, ...</td>\n",
       "      <td>recommended</td>\n",
       "      <td>not_recommended</td>\n",
       "    </tr>\n",
       "    <tr>\n",
       "      <th>593</th>\n",
       "      <td>شیک و پرقدرت</td>\n",
       "      <td>[لین, دستگاه, رو, چند, روز, پیش, خریدم, قبلش, ...</td>\n",
       "      <td>recommended</td>\n",
       "      <td>not_recommended</td>\n",
       "    </tr>\n",
       "    <tr>\n",
       "      <th>594</th>\n",
       "      <td>زیاد جالب نیست</td>\n",
       "      <td>[کاش, تو, خریدم, دقت, میکردم, و, این, هندزفری,...</td>\n",
       "      <td>not_recommended</td>\n",
       "      <td>recommended</td>\n",
       "    </tr>\n",
       "    <tr>\n",
       "      <th>609</th>\n",
       "      <td>ماشین اصلاح سر فیلیپس مدل QC5115</td>\n",
       "      <td>[اکه, دنبال, کم, ترین, قیمت, و, بهترین, کارایی...</td>\n",
       "      <td>recommended</td>\n",
       "      <td>not_recommended</td>\n",
       "    </tr>\n",
       "    <tr>\n",
       "      <th>610</th>\n",
       "      <td>عالی نسبت به قیمت</td>\n",
       "      <td>[سلام, من, این, هاب, رو, از, دیجیکالا, خرید, ک...</td>\n",
       "      <td>recommended</td>\n",
       "      <td>not_recommended</td>\n",
       "    </tr>\n",
       "    <tr>\n",
       "      <th>620</th>\n",
       "      <td>قیمت و کارایی</td>\n",
       "      <td>[سعی, کنید, پنکه, هایی, با, قابلیت, اتصال, به,...</td>\n",
       "      <td>not_recommended</td>\n",
       "      <td>recommended</td>\n",
       "    </tr>\n",
       "    <tr>\n",
       "      <th>624</th>\n",
       "      <td>اسپیکر jbl</td>\n",
       "      <td>[من, این, اسپیکرو, ۱, ماه, پیش, خریدم, واقعا, ...</td>\n",
       "      <td>recommended</td>\n",
       "      <td>not_recommended</td>\n",
       "    </tr>\n",
       "    <tr>\n",
       "      <th>664</th>\n",
       "      <td>کیفیت پایین طراحی و مونتاژ</td>\n",
       "      <td>[کیفیت, کیت, و, پایه, های, لامپ, های, این, مهت...</td>\n",
       "      <td>recommended</td>\n",
       "      <td>not_recommended</td>\n",
       "    </tr>\n",
       "    <tr>\n",
       "      <th>669</th>\n",
       "      <td>راهنمایی درباره ی این پاور بانک</td>\n",
       "      <td>[سلام, گوشیه, من, s8, سامسونگه, و, دارای, type...</td>\n",
       "      <td>recommended</td>\n",
       "      <td>not_recommended</td>\n",
       "    </tr>\n",
       "    <tr>\n",
       "      <th>677</th>\n",
       "      <td>محصول عالی</td>\n",
       "      <td>[برعکس, خیلی, محصولات, و, کاورها, که, قیمتهای,...</td>\n",
       "      <td>recommended</td>\n",
       "      <td>not_recommended</td>\n",
       "    </tr>\n",
       "    <tr>\n",
       "      <th>688</th>\n",
       "      <td>بررسی</td>\n",
       "      <td>[حتی, با, تخفیف, ویژه, هم, ارزش, نداره...., بر...</td>\n",
       "      <td>not_recommended</td>\n",
       "      <td>recommended</td>\n",
       "    </tr>\n",
       "    <tr>\n",
       "      <th>692</th>\n",
       "      <td>کاملا معمولی</td>\n",
       "      <td>[کاملا, معمولی, است, و, پیشنهاد, میکنم, با, قی...</td>\n",
       "      <td>not_recommended</td>\n",
       "      <td>recommended</td>\n",
       "    </tr>\n",
       "    <tr>\n",
       "      <th>706</th>\n",
       "      <td>به نسبت قیمتش خوبه</td>\n",
       "      <td>[در, کل, به, نسبت, قیمش, می, ارزه, به, نسبت, ق...</td>\n",
       "      <td>recommended</td>\n",
       "      <td>not_recommended</td>\n",
       "    </tr>\n",
       "    <tr>\n",
       "      <th>711</th>\n",
       "      <td>کم باد</td>\n",
       "      <td>[خوبه, ولی, قدرت, باد, کمی, داره, کم, باد]</td>\n",
       "      <td>not_recommended</td>\n",
       "      <td>recommended</td>\n",
       "    </tr>\n",
       "    <tr>\n",
       "      <th>712</th>\n",
       "      <td>کیفیت عالی</td>\n",
       "      <td>[دوستانی, ک, صرفا, میخوان, موسیقی, گوش, بدن, ع...</td>\n",
       "      <td>recommended</td>\n",
       "      <td>not_recommended</td>\n",
       "    </tr>\n",
       "    <tr>\n",
       "      <th>714</th>\n",
       "      <td>بهترین دوربین ورزشی موجود</td>\n",
       "      <td>[با, سلام, اگر, ورزشکار, هستید, در, خرید, این,...</td>\n",
       "      <td>recommended</td>\n",
       "      <td>not_recommended</td>\n",
       "    </tr>\n",
       "    <tr>\n",
       "      <th>721</th>\n",
       "      <td>کیفیت الیاف عالی</td>\n",
       "      <td>[دوست, داشتنیه, واستفاده, ازش, کلی, کیف, میده,...</td>\n",
       "      <td>recommended</td>\n",
       "      <td>not_recommended</td>\n",
       "    </tr>\n",
       "    <tr>\n",
       "      <th>722</th>\n",
       "      <td>عالی</td>\n",
       "      <td>[کیفیت, ساخت, بسیار, بالایی, داره, و, از, اجنا...</td>\n",
       "      <td>recommended</td>\n",
       "      <td>not_recommended</td>\n",
       "    </tr>\n",
       "    <tr>\n",
       "      <th>730</th>\n",
       "      <td>کاور سیلیکونی ایرپاد</td>\n",
       "      <td>[این, محصول, ارزش, خرید, نداره, من, مشکی, این,...</td>\n",
       "      <td>not_recommended</td>\n",
       "      <td>recommended</td>\n",
       "    </tr>\n",
       "    <tr>\n",
       "      <th>743</th>\n",
       "      <td>خریدار محصول</td>\n",
       "      <td>[بسته, ای, که, سفارش, دادم, و, این, محصول, هم,...</td>\n",
       "      <td>recommended</td>\n",
       "      <td>not_recommended</td>\n",
       "    </tr>\n",
       "    <tr>\n",
       "      <th>756</th>\n",
       "      <td>رادیو مارشال</td>\n",
       "      <td>[خیلی, رادیو, پر, قدرت, از, نظر, گیرندگی, و, ش...</td>\n",
       "      <td>recommended</td>\n",
       "      <td>not_recommended</td>\n",
       "    </tr>\n",
       "    <tr>\n",
       "      <th>762</th>\n",
       "      <td>واقعا ارزش خریدن داره</td>\n",
       "      <td>[کیفیت, این, محصول, واقعا, خوب, اگر, دنبال, یه...</td>\n",
       "      <td>recommended</td>\n",
       "      <td>not_recommended</td>\n",
       "    </tr>\n",
       "    <tr>\n",
       "      <th>774</th>\n",
       "      <td>شکل ظاهری</td>\n",
       "      <td>[این, کالا, در, طول, یکروز, بدستم, رسید, که, ج...</td>\n",
       "      <td>recommended</td>\n",
       "      <td>not_recommended</td>\n",
       "    </tr>\n",
       "    <tr>\n",
       "      <th>777</th>\n",
       "      <td>بررسی کامل گوشی</td>\n",
       "      <td>[سلام, خدمت, دوستان, عزیز, و, عوامل, محترم, دی...</td>\n",
       "      <td>recommended</td>\n",
       "      <td>not_recommended</td>\n",
       "    </tr>\n",
       "    <tr>\n",
       "      <th>778</th>\n",
       "      <td>متوسط رو به بالا</td>\n",
       "      <td>[درود, ،دوستان, قدرت, تربل, این, باند, واقعا, ...</td>\n",
       "      <td>recommended</td>\n",
       "      <td>not_recommended</td>\n",
       "    </tr>\n",
       "    <tr>\n",
       "      <th>783</th>\n",
       "      <td>دستگاه خوب و قابل اعتمادی است</td>\n",
       "      <td>[والله, من, تازه, خریدم, این, محصول, رو, اما, ...</td>\n",
       "      <td>recommended</td>\n",
       "      <td>not_recommended</td>\n",
       "    </tr>\n",
       "  </tbody>\n",
       "</table>\n",
       "<p>110 rows × 4 columns</p>\n",
       "</div>"
      ],
      "text/plain": [
       "                                                title  \\\n",
       "8                                      نقد پس از خرید   \n",
       "19                                      خیالم راحت شد   \n",
       "23                              در یک کلام فوق العاده   \n",
       "34                                          چیز خوبیه   \n",
       "47            ظاهری زیبا و باطنی نا ارام و فوق العاده   \n",
       "67                                     کاهش زیاد سرعت   \n",
       "68                                              زودپز   \n",
       "80                                   تجربه ای یک ساله   \n",
       "83                             چراغ چک موتور خاموش شد   \n",
       "101           انقدر که در تصویر دیده می شود زیبا نیست   \n",
       "102                                      ایراد دستگاه   \n",
       "106                                        عالییییییی   \n",
       "112  خود تراش ژیلت مدل Fusion Proglide Power Flexball   \n",
       "119                                    پیشنهاد نمیکنم   \n",
       "123                                کیفیت و قیمت مناسب   \n",
       "124                                              عالی   \n",
       "131                           پیشنهاد برای خرید میکنم   \n",
       "133                                          لاک پاکن   \n",
       "138   روکش بالشتاش اصلا شبیه عکسش نبود صورتی ساده بود   \n",
       "139                                      کیفیتش عالیه   \n",
       "146                                       کارآیی بالا   \n",
       "159                                             جالبه   \n",
       "173                                بدرد بخور‌ه کوچولو   \n",
       "174                                          طرح زیبا   \n",
       "196                                        محدودیت ها   \n",
       "197                                        پیشنهاد من   \n",
       "205                    Expansion Portable STEA4000400   \n",
       "207                                           کم بخار   \n",
       "212                                 مناسب در رنج قیمت   \n",
       "213                                عالی با قیمت مناسب   \n",
       "..                                                ...   \n",
       "553                                        خیلی عالیه   \n",
       "559               لطفا دفترچه راهنما ان را هم بگزارید   \n",
       "564                                       کاور ژله ای   \n",
       "574                                           حرفه ای   \n",
       "582                           سیستم چرخشی آبگیری دارد   \n",
       "593                                      شیک و پرقدرت   \n",
       "594                                    زیاد جالب نیست   \n",
       "609                  ماشین اصلاح سر فیلیپس مدل QC5115   \n",
       "610                                 عالی نسبت به قیمت   \n",
       "620                                     قیمت و کارایی   \n",
       "624                                        اسپیکر jbl   \n",
       "664                        کیفیت پایین طراحی و مونتاژ   \n",
       "669                   راهنمایی درباره ی این پاور بانک   \n",
       "677                                        محصول عالی   \n",
       "688                                             بررسی   \n",
       "692                                      کاملا معمولی   \n",
       "706                                به نسبت قیمتش خوبه   \n",
       "711                                            کم باد   \n",
       "712                                        کیفیت عالی   \n",
       "714                         بهترین دوربین ورزشی موجود   \n",
       "721                                  کیفیت الیاف عالی   \n",
       "722                                              عالی   \n",
       "730                              کاور سیلیکونی ایرپاد   \n",
       "743                                      خریدار محصول   \n",
       "756                                      رادیو مارشال   \n",
       "762                             واقعا ارزش خریدن داره   \n",
       "774                                         شکل ظاهری   \n",
       "777                                   بررسی کامل گوشی   \n",
       "778                                  متوسط رو به بالا   \n",
       "783                     دستگاه خوب و قابل اعتمادی است   \n",
       "\n",
       "                                               comment        recommend  \\\n",
       "8    [سلام, ،, راحت, شدم, از, کابل, شارژ, ،, توصیه,...      recommended   \n",
       "19   [فندک, قبلیم, مدام, فیوز, میسوزوند, و, یک, بار...      recommended   \n",
       "23   [من, این, روکش, رو, روی, ال, ۹۰, بستم, کیفیتش,...      recommended   \n",
       "34   [بخرید.چیز, خوبیه.یه, موقع, احتیاج, میشه, بودش...      recommended   \n",
       "47   [سلام, حدود, یک, ماهه, که, این, هدفون, و, برای...      recommended   \n",
       "67       [وحشتناک, سرعتو, کم, میکنه, کاهش, زیاد, سرعت]  not_recommended   \n",
       "68   [خیلی, خوبه, الان, چند, باری, هست, داریم, استف...      recommended   \n",
       "80   [با, سلام, خدمت, همه, دوستان, تجربه, یک, ساله,...      recommended   \n",
       "83   [سلام, دوستان, بعد, از, استفاده, چراغ, چک, توی...      recommended   \n",
       "101  [اگر, خریداری, نکنید, بهتره, انقدر, که, در, تص...  not_recommended   \n",
       "102                     [ایراد, دستگاه, ایراد, دستگاه]  not_recommended   \n",
       "106  [من, 3, ماهی, میشه, که, خریدمش, برای, تبلت, سا...      recommended   \n",
       "112  [فکر, کنم, این, خرید, یکی, از, بهترین, خریدهای...      recommended   \n",
       "119  [برد, بالایی, نداره, کیفیت, صداش, معمولیه, برا...  not_recommended   \n",
       "123  [فیلتر, هوا, به, جعبه, وصل, شده, و, به, همراه,...      recommended   \n",
       "124  [از, اصلاح, با, تیغ, خسته, شده, بودم., قبلا, ا...      recommended   \n",
       "131  [سلام.من, این, محصول, رو, چندین, روزه, خریدم.ک...      recommended   \n",
       "133  [خیلی, خوب, وبه, صرفه, هست, برای, اونهایی, که,...      recommended   \n",
       "138  [روتختیش, نسبت, به, بقیه, روتختیا, کوچیکتره, ج...      recommended   \n",
       "139  [من, این, کیف, رو, توی, تخفیف, خریدم, که, واقع...      recommended   \n",
       "146  [زیباست،, امروز, به, دستم, رسید،.مرسی, از, دیج...      recommended   \n",
       "159  [با, این, قیمت, و, 3تا, باطری, نیم, قلمی, میخو...      recommended   \n",
       "173  [سرعتش, فوق, العاده, است, خیلی, چیز, بدرد, بخو...      recommended   \n",
       "174  [طراحی, بسیار, زیبا, وقتی, به, دستم, رسید, خیل...      recommended   \n",
       "196  [از, لحاظ, طراحی, ظاهری, و, سهولت, استفاده, بس...      recommended   \n",
       "197  [بسیار, کاربردی, هستش, برای, چسباندن, یادداشت،...      recommended   \n",
       "205  [همه, چیز, خوب،, سرعت, خواندن, و, نوشتن, اطلاع...      recommended   \n",
       "207  [پر, صدا, و, کم, بخار, و, بزرگ, و, جاگیر, کم, ...  not_recommended   \n",
       "212  [با, سلام., بهمن, ماه, لپ, تاپ, رو, خریدم.., ت...      recommended   \n",
       "213  [دو, تا, از, این, این, ها, چند, سال, هست, دارم...      recommended   \n",
       "..                                                 ...              ...   \n",
       "553  [خیلی, دیر, شارژ, میشه, جنس, پاوربانک, یجوریه,...      recommended   \n",
       "559  [ممنون, بابت, دیجی, کالا, لطفا, دفترچه, راهنما...      recommended   \n",
       "564         [بد, نیست, نسبت, به, قیمتش, کاور, ژله, ای]  not_recommended   \n",
       "574  [من, خودم, چندیدن, ساله, از, محصولات, براون, ا...      recommended   \n",
       "582  [سیستم, خشک, کن, چرخشی, داره., یه, ضامن, روی, ...      recommended   \n",
       "593  [لین, دستگاه, رو, چند, روز, پیش, خریدم, قبلش, ...      recommended   \n",
       "594  [کاش, تو, خریدم, دقت, میکردم, و, این, هندزفری,...  not_recommended   \n",
       "609  [اکه, دنبال, کم, ترین, قیمت, و, بهترین, کارایی...      recommended   \n",
       "610  [سلام, من, این, هاب, رو, از, دیجیکالا, خرید, ک...      recommended   \n",
       "620  [سعی, کنید, پنکه, هایی, با, قابلیت, اتصال, به,...  not_recommended   \n",
       "624  [من, این, اسپیکرو, ۱, ماه, پیش, خریدم, واقعا, ...      recommended   \n",
       "664  [کیفیت, کیت, و, پایه, های, لامپ, های, این, مهت...      recommended   \n",
       "669  [سلام, گوشیه, من, s8, سامسونگه, و, دارای, type...      recommended   \n",
       "677  [برعکس, خیلی, محصولات, و, کاورها, که, قیمتهای,...      recommended   \n",
       "688  [حتی, با, تخفیف, ویژه, هم, ارزش, نداره...., بر...  not_recommended   \n",
       "692  [کاملا, معمولی, است, و, پیشنهاد, میکنم, با, قی...  not_recommended   \n",
       "706  [در, کل, به, نسبت, قیمش, می, ارزه, به, نسبت, ق...      recommended   \n",
       "711         [خوبه, ولی, قدرت, باد, کمی, داره, کم, باد]  not_recommended   \n",
       "712  [دوستانی, ک, صرفا, میخوان, موسیقی, گوش, بدن, ع...      recommended   \n",
       "714  [با, سلام, اگر, ورزشکار, هستید, در, خرید, این,...      recommended   \n",
       "721  [دوست, داشتنیه, واستفاده, ازش, کلی, کیف, میده,...      recommended   \n",
       "722  [کیفیت, ساخت, بسیار, بالایی, داره, و, از, اجنا...      recommended   \n",
       "730  [این, محصول, ارزش, خرید, نداره, من, مشکی, این,...  not_recommended   \n",
       "743  [بسته, ای, که, سفارش, دادم, و, این, محصول, هم,...      recommended   \n",
       "756  [خیلی, رادیو, پر, قدرت, از, نظر, گیرندگی, و, ش...      recommended   \n",
       "762  [کیفیت, این, محصول, واقعا, خوب, اگر, دنبال, یه...      recommended   \n",
       "774  [این, کالا, در, طول, یکروز, بدستم, رسید, که, ج...      recommended   \n",
       "777  [سلام, خدمت, دوستان, عزیز, و, عوامل, محترم, دی...      recommended   \n",
       "778  [درود, ،دوستان, قدرت, تربل, این, باند, واقعا, ...      recommended   \n",
       "783  [والله, من, تازه, خریدم, این, محصول, رو, اما, ...      recommended   \n",
       "\n",
       "               class  \n",
       "8    not_recommended  \n",
       "19   not_recommended  \n",
       "23   not_recommended  \n",
       "34   not_recommended  \n",
       "47   not_recommended  \n",
       "67       recommended  \n",
       "68   not_recommended  \n",
       "80   not_recommended  \n",
       "83   not_recommended  \n",
       "101      recommended  \n",
       "102      recommended  \n",
       "106  not_recommended  \n",
       "112  not_recommended  \n",
       "119      recommended  \n",
       "123  not_recommended  \n",
       "124  not_recommended  \n",
       "131  not_recommended  \n",
       "133  not_recommended  \n",
       "138  not_recommended  \n",
       "139  not_recommended  \n",
       "146  not_recommended  \n",
       "159  not_recommended  \n",
       "173  not_recommended  \n",
       "174  not_recommended  \n",
       "196  not_recommended  \n",
       "197  not_recommended  \n",
       "205  not_recommended  \n",
       "207      recommended  \n",
       "212  not_recommended  \n",
       "213  not_recommended  \n",
       "..               ...  \n",
       "553  not_recommended  \n",
       "559  not_recommended  \n",
       "564      recommended  \n",
       "574  not_recommended  \n",
       "582  not_recommended  \n",
       "593  not_recommended  \n",
       "594      recommended  \n",
       "609  not_recommended  \n",
       "610  not_recommended  \n",
       "620      recommended  \n",
       "624  not_recommended  \n",
       "664  not_recommended  \n",
       "669  not_recommended  \n",
       "677  not_recommended  \n",
       "688      recommended  \n",
       "692      recommended  \n",
       "706  not_recommended  \n",
       "711      recommended  \n",
       "712  not_recommended  \n",
       "714  not_recommended  \n",
       "721  not_recommended  \n",
       "722  not_recommended  \n",
       "730      recommended  \n",
       "743  not_recommended  \n",
       "756  not_recommended  \n",
       "762  not_recommended  \n",
       "774  not_recommended  \n",
       "777  not_recommended  \n",
       "778  not_recommended  \n",
       "783  not_recommended  \n",
       "\n",
       "[110 rows x 4 columns]"
      ]
     },
     "execution_count": 16,
     "metadata": {},
     "output_type": "execute_result"
    }
   ],
   "source": [
    "test[test['class'] != test['recommend']]"
   ]
  },
  {
   "cell_type": "code",
   "execution_count": 17,
   "metadata": {
    "scrolled": true
   },
   "outputs": [
    {
     "data": {
      "text/plain": [
       "0.8625"
      ]
     },
     "execution_count": 17,
     "metadata": {},
     "output_type": "execute_result"
    }
   ],
   "source": [
    "Accuracy = test[test['class'] == test['recommend']].shape[0] / test.shape[0]\n",
    "Accuracy"
   ]
  },
  {
   "cell_type": "code",
   "execution_count": 18,
   "metadata": {},
   "outputs": [
    {
     "data": {
      "text/plain": [
       "0.9341317365269461"
      ]
     },
     "execution_count": 18,
     "metadata": {},
     "output_type": "execute_result"
    }
   ],
   "source": [
    "correct_recommended = test[(test['class'] == test['recommend']) & (test['class'] == 'recommended')].shape[0]\n",
    "all_recommended = test[test['class'] == 'recommended'].shape[0]\n",
    "\n",
    "Precision = correct_recommended/all_recommended\n",
    "Precision"
   ]
  },
  {
   "cell_type": "code",
   "execution_count": 19,
   "metadata": {},
   "outputs": [
    {
     "data": {
      "text/plain": [
       "0.78"
      ]
     },
     "execution_count": 19,
     "metadata": {},
     "output_type": "execute_result"
    }
   ],
   "source": [
    "total_recommended = test[test['recommend'] == 'recommended'].shape[0]\n",
    "Recall = correct_recommended/total_recommended\n",
    "Recall"
   ]
  },
  {
   "cell_type": "code",
   "execution_count": 20,
   "metadata": {},
   "outputs": [
    {
     "data": {
      "text/plain": [
       "0.8501362397820164"
      ]
     },
     "execution_count": 20,
     "metadata": {},
     "output_type": "execute_result"
    }
   ],
   "source": [
    "F1 = 2 * Precision * Recall / (Precision + Recall)\n",
    "F1"
   ]
  },
  {
   "cell_type": "markdown",
   "metadata": {
    "direction": "rtl"
   },
   "source": [
    "# 5"
   ]
  },
  {
   "cell_type": "markdown",
   "metadata": {
    "direction": "rtl"
   },
   "source": [
    "کاربرد Precision زمانی است که false positive ها هزینه ی زیادی داشته باشند(negative هایی که positive تشخیص داده شدند)پس اگر تعداد recommended های تشخیص داده شده کمتر از حالت واقعی باشد(یعنی تعدادی از recommended ها not_recommended تشخیص داده شده باشند;false negative زیاد باشد)به درستی عمل نمی کند.\n",
    " \n",
    "مثلا  در این حالت precison = 1 می باشد:\n",
    "All detected recommended = 200 - correct detected recommended = 200 - All detected not_recommended = 600 \n",
    "\n",
    " \n",
    "کاربرد Recall زمانی است که false negative ها هزینه ی زیادی داشته باشند(positive هایی که negative تشخیص داده شدند)پس اگر تعداد recommended های تشخیص داده شده بیشتر از حالت واقعی باشد (یعنی تعدادی از not_recommended ها recommended تشخیص داده شده باشند ;false positive ها زیاد باشند)به درستی عمل نمی کند. \n",
    " \n",
    "مثلا در این حالت  Recall = 1 \n",
    "correct detected not_recommended = 200 - correct detected recommended = 400 - All detected recommended = 600 (false positive = 200)"
   ]
  },
  {
   "cell_type": "markdown",
   "metadata": {
    "direction": "rtl"
   },
   "source": [
    "# 6"
   ]
  },
  {
   "cell_type": "markdown",
   "metadata": {
    "direction": "rtl"
   },
   "source": [
    "یک میانگین هارمونیک(همساز) است که بین recall و precision تعادل ایجاد می کند و کاربرد آن نسبت به Accurcy زمانی است که false negative و false positive اهمیت بیشتری دارند.\n",
    "و یا توزیع بین کلاس ها متعادل نیست. "
   ]
  },
  {
   "cell_type": "markdown",
   "metadata": {
    "direction": "rtl"
   },
   "source": [
    "# 7"
   ]
  },
  {
   "cell_type": "markdown",
   "metadata": {},
   "source": [
    "|      |  Accuracy  |   Precision  |  Recall  |  F1  |\n",
    "|------|------------|--------------|----------|------|\n",
    "|   a  |  93        |   89         |    97    |   93 |\n",
    "|   b  |    92      |  89          |    97.7  |   93 |\n",
    "|   c  |  87        |    92        |   81     |  86  |\n",
    "|   d  |  86        |    93        |      78  |  85  |"
   ]
  },
  {
   "cell_type": "markdown",
   "metadata": {
    "direction": "rtl"
   },
   "source": [
    "# 8\n",
    "در حالت  a همان طور که مشاهده می کنیم false negative ها حدود 1/5 false positive ها هستند که به همین دلیل recall حدود 8 درصد بهتر از precision عمل کرده و f1 همان طور که گفته شد تعادلی بین recall و precision برقرار کرده.\n",
    "با توجه به ردیف اول و دوم نتیجه می گیریم که  additive smoothing تاثیر بیشتری به نسبت پیش پردازش دارد. و در ردیف 3 و4 که ازین روش استفاده نکردیم مقدار precision  به مقدار نسبتا زیادی بیشتر از recall شد.\n",
    "با اعمال پیش پردازش چند کامنت که شامل اعداد بودند و false negative بودند درست تشخیص داده شدند."
   ]
  },
  {
   "cell_type": "markdown",
   "metadata": {
    "direction": "rtl"
   },
   "source": [
    "# 9"
   ]
  },
  {
   "cell_type": "markdown",
   "metadata": {
    "direction": "rtl"
   },
   "source": [
    " - با سلام؛ من چندین سال قبل این ادکلن را خریده بودم و بوی بسیار عالی و با ماندگاری خوب بود ولی این بار که از دیجی کالا خریدم اصلا کیفیت گذشته را نداشت!\n",
    "   236 , recommend = not_recommend\n",
    "\n",
    "- دستکش کارآمدی نیست با وجودیکه طرح و دوخت زیبایی داره. در صورت استفاده از این دستکش موقع وزنه زدن، بازهم کف دست پینه میبندد\n",
    "recommend = not_recommend , 231 \n",
    "\n",
    "- 'برد بالایی نداره کیفیت صداش معمولیه برای تایم تمرین و ورزش مناسبه از روی گوش نمیفته  ظریف نیست میان نمونه های هم رده خودش خیلی خوب نیست.\n",
    "recommend = not_recommend , 119 \n",
    "\n",
    "چند کلمه که احتمال حضور آنها در پیشنهاد شده ها بیشتر است مثل زیبا،عالی،کارآمد،ظریف و ... در یک کامنت آمده اند در حالیکه نقیض آنها مد نظر بوده. \n",
    "\n",
    "فرض کردیم که کلمات به شرط دانستن کلاس از یکدیگر مستقل هستند که می دانیم در واقعیت اینطور نیست .(برای مثال اگر قبل از نیست چند صفت مثبت بیاید مفهوم منفی است اما مثبت تشخیص داده می شود.همچنین جایگاه کلمات را تاثیر ندادیم و تکرار بیش از یکبار کلمه را در یک کامنت نادبده گرفتیم.\n",
    "\n",
    "\n",
    "- کاری که میخواین رو انجام میده ولی مایع کیک کمی نشتی میده. title : خیلی خوب\n",
    "recommend = not_recommend , 439 \n",
    "\n",
    "باتوجه به تایتل این گمان می رود که اشتباه برچسب خورده است!\n",
    "\n",
    "- کیفیت کیت و پایه های لامپ های این مهتابی خیلی پایینه . طوریکه هر از گاهی یکی از مهتابی ها از کار میفته ، باید پایه ها رو فشار بدی تا دوباره روشن شه .\n",
    "  recommend = recommended , 664 \n",
    "مثل کامنت بالا به نظر می آید اشتباه برچسب خورده است!\n",
    "\n",
    " "
   ]
  },
  {
   "cell_type": "markdown",
   "metadata": {
    "direction": "rtl"
   },
   "source": [
    "### منابع \n",
    "https://towardsdatascience.com/accuracy-precision-recall-or-f1-331fb37c5cb9\n",
    "https://medium.com/syncedreview/applying-multinomial-naive-bayes-to-nlp-problems-a-practical-explanation-4f5271768ebf"
   ]
  }
 ],
 "metadata": {
  "kernelspec": {
   "display_name": "Python 3",
   "language": "python",
   "name": "python3"
  },
  "language_info": {
   "codemirror_mode": {
    "name": "ipython",
    "version": 3
   },
   "file_extension": ".py",
   "mimetype": "text/x-python",
   "name": "python",
   "nbconvert_exporter": "python",
   "pygments_lexer": "ipython3",
   "version": "3.5.4"
  }
 },
 "nbformat": 4,
 "nbformat_minor": 4
}
